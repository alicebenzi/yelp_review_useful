{
 "metadata": {
  "name": "",
  "signature": "sha256:b8ac6d44c593324b128a74cfee06737ad49eb8fede774e4348c86b6f29a549ce"
 },
 "nbformat": 3,
 "nbformat_minor": 0,
 "worksheets": []
}
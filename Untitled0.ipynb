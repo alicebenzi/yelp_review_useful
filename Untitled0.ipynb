{
 "metadata": {
  "name": "",
  "signature": "sha256:81e01ff6b1b4e1c7c832b593d00646d8c8acb57585b843761b892fce92b8f209"
 },
 "nbformat": 3,
 "nbformat_minor": 0,
 "worksheets": [
  {
   "cells": [
    {
     "cell_type": "code",
     "collapsed": false,
     "input": [
      "import pandas as pd\n",
      "import numpy as np\n",
      "from data_encoding import train_test"
     ],
     "language": "python",
     "metadata": {},
     "outputs": [],
     "prompt_number": 1
    },
    {
     "cell_type": "code",
     "collapsed": false,
     "input": [
      "data_bs_raw = pd.read_table(\"yelp_training_set_business.csv\",sep=\",\")\n",
      "data_ck_raw = pd.read_table(\"yelp_training_set_checkin.csv\",sep=\",\")\n",
      "data_rev_raw = pd.read_table(\"yelp_training_set_review.csv\",sep=\",\")\n",
      "data_user_raw = pd.read_table(\"yelp_training_set_user.csv\",sep=\",\")\n",
      "test_bs = pd.read_table(\"yelp_test_set_business.csv\",sep=\",\")\n",
      "test_ck = pd.read_table(\"yelp_test_set_checkin.csv\",sep=\",\")\n",
      "test_rev = pd.read_table(\"yelp_test_set_review.csv\",sep=\",\")\n",
      "test_user = pd.read_table(\"yelp_test_set_user.csv\",sep=\",\")\n",
      "\n",
      "\n",
      "data_ck_raw[\"total_checkins\"] = data_ck_raw.sum(axis=1)\n",
      "data_ck_raw = data_ck_raw.fillna(0)\n",
      "data_ck = data_ck_raw[[\"business_id\",\"total_checkins\"]]\n",
      "data_rev_raw[\"freshness\"] =pd.to_datetime('2013-01-19')- pd.to_datetime(data_rev_raw[\"date\"])\n",
      "\n",
      "\n",
      "data_merge1 =  pd.merge(data_rev_raw,data_bs_raw, on ='business_id')\n",
      "data_merge2 = pd.merge(data_merge1,data_ck,on='business_id')\n",
      "data_final = pd.merge(data_merge2,data_user_raw,on = 'user_id')\n"
     ],
     "language": "python",
     "metadata": {},
     "outputs": [],
     "prompt_number": 2
    },
    {
     "cell_type": "code",
     "collapsed": false,
     "input": [
      "len(data_merge1),len(data_merge2),len(data_final)"
     ],
     "language": "python",
     "metadata": {},
     "outputs": [
      {
       "metadata": {},
       "output_type": "pyout",
       "prompt_number": 5,
       "text": [
        "(229907, 213512, 200473)"
       ]
      }
     ],
     "prompt_number": 5
    },
    {
     "cell_type": "code",
     "collapsed": false,
     "input": [
      "train_x, train_y,train_x_norm, pred_x, pred_x_norm, review_id = train_test()"
     ],
     "language": "python",
     "metadata": {},
     "outputs": []
    }
   ],
   "metadata": {}
  }
 ]
}